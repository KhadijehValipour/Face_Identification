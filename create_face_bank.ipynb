{
 "cells": [
  {
   "cell_type": "code",
   "execution_count": 12,
   "metadata": {},
   "outputs": [],
   "source": [
    "import os\n",
    "import cv2\n",
    "import numpy as np\n",
    "import matplotlib.pyplot as plt\n",
    "from insightface.app import FaceAnalysis"
   ]
  },
  {
   "cell_type": "markdown",
   "metadata": {},
   "source": [
    "### Create face bank"
   ]
  },
  {
   "cell_type": "code",
   "execution_count": 13,
   "metadata": {},
   "outputs": [
    {
     "name": "stdout",
     "output_type": "stream",
     "text": [
      "Applied providers: ['CPUExecutionProvider'], with options: {'CPUExecutionProvider': {}}\n",
      "find model: C:\\Users\\khadi/.insightface\\models\\buffalo_l\\1k3d68.onnx landmark_3d_68 ['None', 3, 192, 192] 0.0 1.0\n",
      "Applied providers: ['CPUExecutionProvider'], with options: {'CPUExecutionProvider': {}}\n",
      "find model: C:\\Users\\khadi/.insightface\\models\\buffalo_l\\2d106det.onnx landmark_2d_106 ['None', 3, 192, 192] 0.0 1.0\n",
      "Applied providers: ['CPUExecutionProvider'], with options: {'CPUExecutionProvider': {}}\n",
      "find model: C:\\Users\\khadi/.insightface\\models\\buffalo_l\\det_10g.onnx detection [1, 3, '?', '?'] 127.5 128.0\n",
      "Applied providers: ['CPUExecutionProvider'], with options: {'CPUExecutionProvider': {}}\n",
      "find model: C:\\Users\\khadi/.insightface\\models\\buffalo_l\\genderage.onnx genderage ['None', 3, 96, 96] 0.0 1.0\n",
      "Applied providers: ['CPUExecutionProvider'], with options: {'CPUExecutionProvider': {}}\n",
      "find model: C:\\Users\\khadi/.insightface\\models\\buffalo_l\\w600k_r50.onnx recognition ['None', 3, 112, 112] 127.5 127.5\n",
      "set det-size: (640, 640)\n"
     ]
    }
   ],
   "source": [
    "model = FaceAnalysis(name=\"buffalo_l\" , providers=['CPUExecutionProvider'])\n",
    "model.prepare(ctx_id=0, det_size=(640, 640))"
   ]
  },
  {
   "cell_type": "markdown",
   "metadata": {},
   "source": [
    "face_bank=[\n",
    "\n",
    "    {\"name\":\"LisaKudrow\", \"embedding\":[1,5,2,3.5,4.7,...]},\n",
    "\n",
    "    {\"name\":\"LisaKudrow\", \"embedding\":[2,6,2.1,3,4.7,...]},\n",
    "\n",
    "    ...\n",
    "\n",
    "    {\"name\":\"MattLeBlanc\", \"embedding\":[4,1,0,1,2,...]},\n",
    " \n",
    "]"
   ]
  },
  {
   "cell_type": "code",
   "execution_count": 14,
   "metadata": {},
   "outputs": [
    {
     "name": "stdout",
     "output_type": "stream",
     "text": [
      "./FaceBank/Courteney\\Capture27.PNG\n",
      "./FaceBank/Courteney\\Capture40.PNG\n",
      "./FaceBank/Courteney\\Capture8.PNG\n",
      "./FaceBank/Courteney\\Capture9.PNG\n",
      "./FaceBank/Courteney\\download.jpeg\n",
      "./FaceBank/Courteney\\images.jpeg\n",
      "./FaceBank/Courteney\\images1.jpeg\n",
      "./FaceBank/Courteney\\images10.jpeg\n",
      "./FaceBank/Courteney\\images2.jpeg\n",
      "./FaceBank/Courteney\\images3.jpeg\n",
      "./FaceBank/Courteney\\images4.jpeg\n",
      "warning: no face detected in image\n",
      "./FaceBank/Courteney\\images5.jpeg\n",
      "./FaceBank/Courteney\\images8.jpeg\n",
      "./FaceBank/Courteney\\images9.jpeg\n",
      "warning: more than one face detected in image\n",
      "./FaceBank/David\\Capture14.PNG\n",
      "./FaceBank/David\\Capture15.PNG\n",
      "./FaceBank/David\\Capture39.PNG\n",
      "./FaceBank/David\\Capture42.PNG\n",
      "./FaceBank/Jennifer\\Capture4.PNG\n",
      "./FaceBank/Jennifer\\Capture44.PNG\n",
      "./FaceBank/Jennifer\\Capture5.PNG\n",
      "./FaceBank/Lisa\\Capture12.PNG\n",
      "./FaceBank/Lisa\\Capture13.PNG\n",
      "./FaceBank/Lisa\\Capture28.PNG\n",
      "./FaceBank/Lisa\\Capture39.PNG\n",
      "./FaceBank/Lisa\\Capture45.PNG\n",
      "./FaceBank/Lisa\\download.jpeg\n",
      "./FaceBank/Lisa\\images.jpeg\n",
      "./FaceBank/Lisa\\images1.jpeg\n",
      "./FaceBank/Lisa\\images2.jpeg\n",
      "./FaceBank/Lisa\\images3.jpeg\n",
      "./FaceBank/Matt\\Capture24.PNG\n",
      "./FaceBank/Matt\\Capture38.PNG\n",
      "./FaceBank/Matt\\Capture46.PNG\n",
      "./FaceBank/Matt\\Capture6.PNG\n",
      "./FaceBank/Matt\\Capture7.PNG\n",
      "./FaceBank/Matthew\\Capture10.PNG\n",
      "./FaceBank/Matthew\\Capture11.PNG\n",
      "./FaceBank/Matthew\\Capture26.PNG\n",
      "./FaceBank/Matthew\\Capture47.PNG\n",
      "./FaceBank/Matthew\\download.jpeg\n",
      "./FaceBank/Matthew\\images (1).jpeg\n",
      "./FaceBank/Matthew\\images.jpeg\n",
      "./FaceBank/Matthew\\img.jpeg\n",
      "./FaceBank/Matthew\\img2.jpeg\n",
      "./FaceBank/Matthew\\img3.jpeg\n"
     ]
    }
   ],
   "source": [
    "face_bank_path= \"./FaceBank/\"\n",
    "\n",
    "face_bank=[]\n",
    "\n",
    "for person_name in os.listdir(face_bank_path):\n",
    "    file_path = os.path.join(face_bank_path, person_name)\n",
    "    if os.path.isdir(file_path):\n",
    "        for image_name in os.listdir(file_path):\n",
    "            if image_name != \".DS_Store\":\n",
    "                image_path = os.path.join(file_path, image_name)\n",
    "                print(image_path)\n",
    "                image = cv2.imread(image_path)\n",
    "                image = cv2.cvtColor(image, cv2.COLOR_BGR2RGB)\n",
    "                result = model.get(image)\n",
    "                \n",
    "                if not result:\n",
    "                    print(\"warning: no face detected in image\")\n",
    "                    continue\n",
    "\n",
    "                if len(result) > 1:\n",
    "                    print(\"warning: more than one face detected in image\")\n",
    "                    continue\n",
    "                \n",
    "                embedding = result[0][\"embedding\"]\n",
    "                my_dict = {\"name\": person_name, \"embedding\": embedding}\n",
    "                face_bank.append(my_dict)\n",
    "\n",
    "# print(face_bank)\n",
    "np.save(\"face_bank.npy\", face_bank)"
   ]
  }
 ],
 "metadata": {
  "kernelspec": {
   "display_name": "Python 3",
   "language": "python",
   "name": "python3"
  },
  "language_info": {
   "codemirror_mode": {
    "name": "ipython",
    "version": 3
   },
   "file_extension": ".py",
   "mimetype": "text/x-python",
   "name": "python",
   "nbconvert_exporter": "python",
   "pygments_lexer": "ipython3",
   "version": "3.9.6"
  }
 },
 "nbformat": 4,
 "nbformat_minor": 2
}
