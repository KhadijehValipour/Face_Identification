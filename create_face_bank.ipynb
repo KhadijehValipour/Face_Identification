{
 "cells": [
  {
   "cell_type": "code",
   "execution_count": 12,
   "metadata": {},
   "outputs": [],
   "source": [
    "import os\n",
    "import cv2\n",
    "import numpy as np\n",
    "import matplotlib.pyplot as plt\n",
    "from insightface.app import FaceAnalysis"
   ]
  },
  {
   "cell_type": "markdown",
   "metadata": {},
   "source": [
    "### Create face bank"
   ]
  },
  {
   "cell_type": "code",
   "execution_count": null,
   "metadata": {},
   "outputs": [],
   "source": [
    "model = FaceAnalysis(name=\"buffalo_l\" , providers=['CPUExecutionProvider'])\n",
    "model.prepare(ctx_id=0, det_size=(640, 640))"
   ]
  },
  {
   "cell_type": "markdown",
   "metadata": {},
   "source": [
    "face_bank=[\n",
    "\n",
    "    {\"name\":\"LisaKudrow\", \"embedding\":[1,5,2,3.5,4.7,...]},\n",
    "\n",
    "    {\"name\":\"LisaKudrow\", \"embedding\":[2,6,2.1,3,4.7,...]},\n",
    "\n",
    "    ...\n",
    "\n",
    "    {\"name\":\"MattLeBlanc\", \"embedding\":[4,1,0,1,2,...]},\n",
    " \n",
    "]"
   ]
  },
  {
   "cell_type": "code",
   "execution_count": null,
   "metadata": {},
   "outputs": [],
   "source": [
    "face_bank_path= \"./FaceBank/\"\n",
    "\n",
    "face_bank=[]\n",
    "\n",
    "for person_name in os.listdir(face_bank_path):\n",
    "    file_path = os.path.join(face_bank_path, person_name)\n",
    "    if os.path.isdir(file_path):\n",
    "        for image_name in os.listdir(file_path):\n",
    "            if image_name != \".DS_Store\":\n",
    "                image_path = os.path.join(file_path, image_name)\n",
    "                print(image_path)\n",
    "                image = cv2.imread(image_path)\n",
    "                image = cv2.cvtColor(image, cv2.COLOR_BGR2RGB)\n",
    "                result = model.get(image)\n",
    "                \n",
    "                if not result:\n",
    "                    print(\"warning: no face detected in image\")\n",
    "                    continue\n",
    "\n",
    "                if len(result) > 1:\n",
    "                    print(\"warning: more than one face detected in image\")\n",
    "                    continue\n",
    "                \n",
    "                embedding = result[0][\"embedding\"]\n",
    "                my_dict = {\"name\": person_name, \"embedding\": embedding}\n",
    "                face_bank.append(my_dict)\n",
    "\n",
    "# print(face_bank)\n",
    "np.save(\"face_bank.npy\", face_bank)"
   ]
  }
 ],
 "metadata": {
  "kernelspec": {
   "display_name": "Python 3",
   "language": "python",
   "name": "python3"
  },
  "language_info": {
   "codemirror_mode": {
    "name": "ipython",
    "version": 3
   },
   "file_extension": ".py",
   "mimetype": "text/x-python",
   "name": "python",
   "nbconvert_exporter": "python",
   "pygments_lexer": "ipython3",
   "version": "3.9.6"
  }
 },
 "nbformat": 4,
 "nbformat_minor": 2
}
